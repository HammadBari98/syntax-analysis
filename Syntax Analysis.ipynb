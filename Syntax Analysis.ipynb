{
 "cells": [
  {
   "cell_type": "code",
   "execution_count": 3,
   "id": "2a80a379",
   "metadata": {},
   "outputs": [
    {
     "name": "stdout",
     "output_type": "stream",
     "text": [
      "please enter The tcl code here: puts\"s\"c\n",
      "Error in given code Syntax\n"
     ]
    }
   ],
   "source": [
    "def Syntax_Anl(tcl_code):\n",
    "    lines = tcl_code.splitlines()\n",
    "    valid_cmd= [\"puts\", \"set\", \"if\", \"while\"]\n",
    "    for line in lines:\n",
    "        line = line.strip()\n",
    "        if not line:\n",
    "            continue\n",
    "        command, *arguments = line.split()\n",
    "        if not command:\n",
    "            return \"Error in given code Syntax\"\n",
    "        if command.lower() not in valid_cmd:\n",
    "            return \"Error in given code Syntax\"\n",
    "        for argument in arguments:\n",
    "            if not (argument.startswith('\"') and argument.endswith('\"')):\n",
    "                return \"Error in given code Syntax\"\n",
    "    \n",
    "    return \"Valid TCL syntax\"\n",
    "tcl_code = input(\"please enter The tcl code here: \")\n",
    "op = Syntax_Anl(tcl_code)\n",
    "print(op)\n"
   ]
  },
  {
   "cell_type": "code",
   "execution_count": 58,
   "id": "8e49a9ab",
   "metadata": {},
   "outputs": [],
   "source": []
  },
  {
   "cell_type": "code",
   "execution_count": null,
   "id": "78275052",
   "metadata": {},
   "outputs": [],
   "source": []
  },
  {
   "cell_type": "code",
   "execution_count": null,
   "id": "d5e13503",
   "metadata": {},
   "outputs": [],
   "source": []
  }
 ],
 "metadata": {
  "kernelspec": {
   "display_name": "Python 3 (ipykernel)",
   "language": "python",
   "name": "python3"
  },
  "language_info": {
   "codemirror_mode": {
    "name": "ipython",
    "version": 3
   },
   "file_extension": ".py",
   "mimetype": "text/x-python",
   "name": "python",
   "nbconvert_exporter": "python",
   "pygments_lexer": "ipython3",
   "version": "3.9.13"
  }
 },
 "nbformat": 4,
 "nbformat_minor": 5
}
